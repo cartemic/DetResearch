{
 "cells": [
  {
   "cell_type": "markdown",
   "metadata": {},
   "source": [
    "# Flame temperature matching development\n",
    "This notebook is for the development of functions required to match the adiabatic flame temperatures, $T_{ad}$, of different diluents. $T_{ad}$ matching will be used to estimate purely the thermal effect of a chemically active diluent, such as $CO_{2}$. In order to do this, the same undiluted mixture will be diluted with a relatively inert species, such as $N_{2}$, such that $T_{ad, CO_{2}} \\approx T_{ad, N_{2}}$. *This will only account for the thermal effect on the detonation behavior*; sound-speed effects will be accounted for by normalizing measured wave speeds by the Chapman-Jouguet wave speed, $D_{CJ}$ for the appropriate mixture."
   ]
  },
  {
   "cell_type": "code",
   "execution_count": 1,
   "metadata": {
    "ExecuteTime": {
     "end_time": "2019-11-01T21:10:59.278220Z",
     "start_time": "2019-11-01T21:10:58.873897Z"
    }
   },
   "outputs": [],
   "source": [
    "import cantera as ct\n",
    "import numpy as np\n",
    "from matplotlib import pyplot as plt\n",
    "from scipy.optimize import minimize"
   ]
  },
  {
   "cell_type": "code",
   "execution_count": 11,
   "metadata": {
    "ExecuteTime": {
     "end_time": "2019-11-01T21:13:45.195031Z",
     "start_time": "2019-11-01T21:13:45.192055Z"
    }
   },
   "outputs": [],
   "source": [
    "mech = \"gri30.cti\"\n",
    "init_temp = 300\n",
    "init_press = ct.one_atm\n",
    "fuel = \"C3H8\"\n",
    "oxidizer = \"O2:1 N2:3.76\"\n",
    "ϕ = 1\n",
    "dil_active_mol_frac = 0.02\n",
    "dil_active = \"CO2\"\n",
    "dil_inert = \"N2\""
   ]
  },
  {
   "cell_type": "code",
   "execution_count": 3,
   "metadata": {
    "ExecuteTime": {
     "end_time": "2019-11-01T21:10:59.292183Z",
     "start_time": "2019-11-01T21:10:59.285174Z"
    }
   },
   "outputs": [],
   "source": [
    "def diluted_species_dict(spec, diluent, diluent_mol_frac):\n",
    "    if diluent not in spec.keys():\n",
    "        spec = {k: v * (1 - diluent_mol_frac) for k, v in spec.items()}\n",
    "        spec[diluent] = diluent_mol_frac\n",
    "        return spec\n",
    "    else:\n",
    "        spec[diluent] += 1 / (1 / diluent_mol_frac - 1)\n",
    "        new_total_moles = sum(spec.values())\n",
    "        for s in spec.keys():\n",
    "            spec[s] /= new_total_moles\n",
    "        return spec"
   ]
  },
  {
   "cell_type": "code",
   "execution_count": 29,
   "metadata": {
    "ExecuteTime": {
     "end_time": "2019-11-01T21:38:38.388311Z",
     "start_time": "2019-11-01T21:38:38.382327Z"
    }
   },
   "outputs": [],
   "source": [
    "def get_T_ad(\n",
    "    mech, \n",
    "    fuel, \n",
    "    oxidizer,\n",
    "    ϕ,\n",
    "    diluent, \n",
    "    diluent_mol_frac,\n",
    "    init_temp, \n",
    "    init_press\n",
    "):\n",
    "    \"\"\"\n",
    "    Calculates the adiabatic flame temperature of a given mixture using\n",
    "    Cantera\n",
    "    \n",
    "    Parameters\n",
    "    ----------\n",
    "    mech : str\n",
    "        Mechanism to use\n",
    "    fuel : str\n",
    "        Fuel to use; must be in `mech`\n",
    "    oxidizer : str\n",
    "        Oxidizer to use; must be in `mech`\n",
    "    ϕ : float\n",
    "        Equivalence ratio\n",
    "    diluent: str\n",
    "        Species with which to dilute the mixture; must be in `mech`\n",
    "    diluent_mol_frac : float\n",
    "        Mole fraction of active diluent to apply to the undiluted mixture\n",
    "    init_temp : float\n",
    "        Mixture initial temperature\n",
    "    init_press : float\n",
    "        Mixture initial pressure\n",
    "    \n",
    "    Returns\n",
    "    -------\n",
    "    float\n",
    "        Adiabatic flame temperature of the input mixture in Kelvin\n",
    "    \"\"\"\n",
    "    gas = ct.Solution(mech)\n",
    "    gas.set_equivalence_ratio(ϕ, fuel, oxidizer)\n",
    "    gas.TPX = (\n",
    "        init_temp, \n",
    "        init_press, \n",
    "        diluted_species_dict(\n",
    "            gas.mole_fraction_dict(),\n",
    "            diluent,\n",
    "            diluent_mol_frac\n",
    "        )\n",
    "    )\n",
    "    gas.equilibrate(\"HP\")\n",
    "    return gas.T"
   ]
  },
  {
   "cell_type": "code",
   "execution_count": 28,
   "metadata": {
    "ExecuteTime": {
     "end_time": "2019-11-01T21:38:20.987668Z",
     "start_time": "2019-11-01T21:38:20.982709Z"
    }
   },
   "outputs": [],
   "source": [
    "def temp_error(\n",
    "    diluent_mol_frac,\n",
    "    target_temp,\n",
    "    mech,\n",
    "    fuel,\n",
    "    oxidizer,\n",
    "    ϕ,\n",
    "    diluent, \n",
    "    init_temp, \n",
    "    init_press\n",
    "):\n",
    "    \"\"\"\n",
    "    Compares the adiabatic flame temperature from a given combination of\n",
    "    inputs to a target temperature and returns the absolute value of the\n",
    "    resulting difference.\n",
    "    \n",
    "    Parameters\n",
    "    ----------\n",
    "    diluent_mol_frac : float\n",
    "        Mole fraction of active diluent to apply to the undiluted mixture\n",
    "    target_temp : float\n",
    "        Adiabatic flame temperature to match, in Kelvin\n",
    "    mech : str\n",
    "        Mechanism to use\n",
    "    fuel : str\n",
    "        Fuel to use; must be in `mech`\n",
    "    oxidizer : str\n",
    "        Oxidizer to use; must be in `mech`\n",
    "    ϕ : float\n",
    "        Equivalence ratio\n",
    "    diluent: str\n",
    "        Diluent with which to evaluate the new adiabatic flame temperature;\n",
    "        must be in `mech`\n",
    "    init_temp : float\n",
    "        Mixture initial temperature\n",
    "    init_press : float\n",
    "        Mixture initial pressure\n",
    "        \n",
    "    Returns\n",
    "    -------\n",
    "    float\n",
    "        Absolute difference between the target temperature and the adiabatic\n",
    "        flame temperature of the input mixture, in Kelvin\n",
    "    \"\"\"\n",
    "    return abs(\n",
    "        get_T_ad(\n",
    "            mech=mech, \n",
    "            fuel=fuel,\n",
    "            oxidizer=oxidizer,\n",
    "            ϕ=ϕ, \n",
    "            diluent=diluent,\n",
    "            diluent_mol_frac=diluent_mol_frac,\n",
    "            init_temp=init_temp, \n",
    "            init_press=init_press\n",
    "        ) - target_temp\n",
    "    )"
   ]
  },
  {
   "cell_type": "code",
   "execution_count": 27,
   "metadata": {
    "ExecuteTime": {
     "end_time": "2019-11-01T21:38:18.046210Z",
     "start_time": "2019-11-01T21:38:18.040225Z"
    }
   },
   "outputs": [],
   "source": [
    "def match_T_ad(\n",
    "    mech, \n",
    "    fuel,\n",
    "    oxidizer,\n",
    "    ϕ, \n",
    "    dil_active,\n",
    "    dil_active_mol_frac,\n",
    "    dil_inert,\n",
    "    init_temp, \n",
    "    init_press,\n",
    "    tol=1e-6\n",
    "):\n",
    "    \"\"\"\n",
    "    This function returns the **additional** mole fraction of a diluent gas\n",
    "    required to match the adiabatic flame temperature of another diluent. If\n",
    "    the diluent is *not* in the original mixture (e.g. H2/O2 diluted with N2)\n",
    "    this will be the **total** mole fraction; if the diluent **is** in the\n",
    "    original mixture (e.g. H2/air diluted with N2) then the **total** mole\n",
    "    fraction can be seen by calling:\n",
    "    \n",
    "    diluted_species_dict(\n",
    "        gas.mole_fraction_dict(),\n",
    "        dil_inert,\n",
    "        inert_mol_frac\n",
    "    )\n",
    "    \n",
    "    The **additional** mole fraction is returned because, in this application,\n",
    "    air is being added as a single component, and thus the partial pressure\n",
    "    of the **additional** nitrogen is a parameter of interest.\n",
    "    \n",
    "    Parameters:\n",
    "    -----------\n",
    "    mech : str\n",
    "        Mechanism to use\n",
    "    fuel : str\n",
    "        Fuel to use; must be in `mech`\n",
    "    oxidizer : str\n",
    "        Oxidizer to use; must be in `mech`\n",
    "    ϕ : float\n",
    "        Equivalence ratio of undiluted mixture\n",
    "    dil_active : str\n",
    "        Active diluent, which gives the target adiabatic flame temperature\n",
    "        to be matched; must be in `mech`\n",
    "    dil_active_mol_frac : float\n",
    "        Mole fraction of active diluent to apply to the undiluted mixture\n",
    "    dil_inert : str\n",
    "        Inert diluent to match to the active diluent; must be in `mech`\n",
    "    init_temp : float\n",
    "        Mixture initial temperature\n",
    "    init_press : float\n",
    "        Mixture initial pressure\n",
    "    tol : float\n",
    "        Tolerance for adiabatic flame temperature matching, in Kelvin\n",
    "        \n",
    "    Returns\n",
    "    -------\n",
    "    float\n",
    "        Additional mole fraction of diluent gas needed to match the adiabatic\n",
    "        flame temperature to within the specified tolerance\n",
    "    \"\"\"\n",
    "    target_temp = get_T_ad(\n",
    "        mech, \n",
    "        fuel,\n",
    "        oxidizer,\n",
    "        ϕ, \n",
    "        dil_active,\n",
    "        dil_active_mol_frac,\n",
    "        init_temp, \n",
    "        init_press\n",
    "    )\n",
    "    best = minimize(\n",
    "        temp_error, \n",
    "        [dil_active_mol_frac], \n",
    "        args=(\n",
    "            target_temp,\n",
    "            mech, \n",
    "            fuel,\n",
    "            oxidizer,\n",
    "            ϕ, \n",
    "            dil_inert,\n",
    "            init_temp, \n",
    "            init_press\n",
    "        ),\n",
    "        method=\"Nelder-Mead\",\n",
    "        tol=tol\n",
    "    )\n",
    "    return best.x[0]"
   ]
  },
  {
   "cell_type": "code",
   "execution_count": 30,
   "metadata": {
    "ExecuteTime": {
     "end_time": "2019-11-01T21:39:02.434210Z",
     "start_time": "2019-11-01T21:38:54.318687Z"
    }
   },
   "outputs": [
    {
     "data": {
      "text/plain": [
       "0.037018741607666036"
      ]
     },
     "execution_count": 30,
     "metadata": {},
     "output_type": "execute_result"
    }
   ],
   "source": [
    "inert_mol_frac = match_T_ad(\n",
    "    mech,\n",
    "    fuel,\n",
    "    oxidizer,\n",
    "    ϕ,\n",
    "    dil_active,\n",
    "    dil_active_mol_frac,\n",
    "    dil_inert,\n",
    "    init_temp,\n",
    "    init_press\n",
    ")\n",
    "inert_mol_frac"
   ]
  },
  {
   "cell_type": "code",
   "execution_count": 31,
   "metadata": {
    "ExecuteTime": {
     "end_time": "2019-11-01T21:39:07.080462Z",
     "start_time": "2019-11-01T21:39:06.758326Z"
    }
   },
   "outputs": [
    {
     "data": {
      "text/plain": [
       "9.196974133374169e-07"
      ]
     },
     "execution_count": 31,
     "metadata": {},
     "output_type": "execute_result"
    }
   ],
   "source": [
    "get_T_ad(\n",
    "    mech, \n",
    "    fuel, \n",
    "    oxidizer,\n",
    "    ϕ,\n",
    "    dil_inert, \n",
    "    inert_mol_frac,\n",
    "    init_temp, \n",
    "    init_press\n",
    ") - get_T_ad(\n",
    "    mech, \n",
    "    fuel, \n",
    "    oxidizer,\n",
    "    ϕ,\n",
    "    dil_active, \n",
    "    dil_active_mol_frac,\n",
    "    init_temp, \n",
    "    init_press\n",
    ")"
   ]
  },
  {
   "cell_type": "code",
   "execution_count": 32,
   "metadata": {
    "ExecuteTime": {
     "end_time": "2019-11-01T21:39:08.883519Z",
     "start_time": "2019-11-01T21:39:08.878532Z"
    }
   },
   "outputs": [
    {
     "data": {
      "text/plain": [
       "{'C3H8': 0.038829889451303785,\n",
       " 'N2': 0.7670206632921772,\n",
       " 'O2': 0.19414944725651892}"
      ]
     },
     "execution_count": 32,
     "metadata": {},
     "output_type": "execute_result"
    }
   ],
   "source": [
    "diluted_species_dict(\n",
    "    gas.mole_fraction_dict(),\n",
    "    dil_inert,\n",
    "    inert_mol_frac\n",
    ")"
   ]
  }
 ],
 "metadata": {
  "kernelspec": {
   "display_name": "Python 3",
   "language": "python",
   "name": "python3"
  },
  "language_info": {
   "codemirror_mode": {
    "name": "ipython",
    "version": 3
   },
   "file_extension": ".py",
   "mimetype": "text/x-python",
   "name": "python",
   "nbconvert_exporter": "python",
   "pygments_lexer": "ipython3",
   "version": "3.6.7"
  }
 },
 "nbformat": 4,
 "nbformat_minor": 2
}
