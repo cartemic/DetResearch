{
 "cells": [
  {
   "cell_type": "markdown",
   "metadata": {},
   "source": [
    "# Inert Dilution\n",
    "\n",
    "This notebook describes the method by which partial fill pressures are calculated for the ONR detonation project."
   ]
  },
  {
   "cell_type": "markdown",
   "metadata": {},
   "source": [
    "## Imports and global definitions\n",
    "A janky-looking relative import is used for functions within this package, which is still under development. Pint is used to prevent unit-based idiocy on the part of the researcher."
   ]
  },
  {
   "cell_type": "code",
   "execution_count": 1,
   "metadata": {
    "ExecuteTime": {
     "end_time": "2019-12-11T04:41:37.039690Z",
     "start_time": "2019-12-11T04:41:32.895196Z"
    }
   },
   "outputs": [],
   "source": [
    "import numpy as np\n",
    "import cantera as ct\n",
    "import pandas as pd\n",
    "import pint\n",
    "import os\n",
    "import sys\n",
    "import itertools\n",
    "module_path = os.path.abspath(os.path.join('..'))\n",
    "if module_path not in sys.path:\n",
    "    sys.path.append(module_path)\n",
    "    \n",
    "from funcs import specific_heat_matching as sp\n",
    "ureg = pint.UnitRegistry()\n",
    "quant = ureg.Quantity"
   ]
  },
  {
   "cell_type": "markdown",
   "metadata": {
    "ExecuteTime": {
     "end_time": "2019-11-01T21:58:36.435411Z",
     "start_time": "2019-11-01T21:58:36.271113Z"
    }
   },
   "source": [
    "## Calculation of partial pressures\n",
    "The partial pressure of the $i^{th}$ component in a mixture, $p_{i}$, is defined as \n",
    "\n",
    "<center>$p_{i} = x_{i} P \\qquad$ (1)</center>\n",
    "\n",
    "where $P$ is the mixture total pressure. Since \n",
    "\n",
    "<center>$\\sum_{i}^{N} x_{i} = 1 \\qquad$ (2)</center>\n",
    "\n",
    "and I am filling with $N=3$ distinct components (fuel, oxidizer, diluent),\n",
    "\n",
    "<center>$x_{oxidizer} = 1 - (x_{fuel} + x_{diluent}) \\qquad$ (3),</center>\n",
    "\n",
    "which is important because, in the case of $N_{2}$ dilution where air is used as an oxidizer, $N_{2}$ is added in both the oxidizer and diluent streams. Assuming that the fuel stream does not contain the diluent, equations 1-3 can reliably used to calculate fill pressures for each component. It is important to note here that **when the diluent is also a component of the oxidizer** $x_{diluent}$ does *not* represent the total mole fraction of the diluent species in the mixture, but rather the *additional* mole fraction needed in order to match the adiabatic flame temperature achieved with the active diluent."
   ]
  },
  {
   "cell_type": "code",
   "execution_count": 2,
   "metadata": {
    "ExecuteTime": {
     "end_time": "2019-12-11T04:41:37.047641Z",
     "start_time": "2019-12-11T04:41:37.041655Z"
    }
   },
   "outputs": [],
   "source": [
    "def calculate_partial_pressures(\n",
    "    x_diluent:float, \n",
    "    x_fuel:float, \n",
    "    total_pressure:float\n",
    "):\n",
    "    check_array = np.array([x_fuel, x_diluent])\n",
    "    if any(check_array > 1.) or any(check_array < 0.):\n",
    "        raise ValueError(\"Please keep all mole fractions on 0 < x < 1\")\n",
    "    elif sum(check_array) > 1.:\n",
    "        raise ValueError(\"Mole fractions cannot sum to > 1\")\n",
    "        \n",
    "    return {\n",
    "        \"diluent\": x_diluent * total_pressure, \n",
    "        \"fuel\": x_fuel * total_pressure, \n",
    "        \"oxidizer\": (1 - (x_diluent + x_fuel)) * total_pressure\n",
    "    }"
   ]
  },
  {
   "cell_type": "markdown",
   "metadata": {},
   "source": [
    "## Calculate mixture-specific fill pressures\n",
    "Fuel and diluent mole fractions are calculated for an inert-diluted mixture using adiabatic flame temperature matching and dilution functions. Calculated mole fractions are then fed in to `calculate_partial_pressures()` to generate the fill cutoff pressures."
   ]
  },
  {
   "cell_type": "code",
   "execution_count": 6,
   "metadata": {
    "ExecuteTime": {
     "end_time": "2019-12-11T04:43:44.982724Z",
     "start_time": "2019-12-11T04:43:44.976739Z"
    }
   },
   "outputs": [],
   "source": [
    "def calculate_fill_pressures(\n",
    "    mech,\n",
    "    fuel,\n",
    "    oxidizer,\n",
    "    phi,\n",
    "    diluent_active,\n",
    "    mol_frac,\n",
    "    diluent_inert,\n",
    "    initial_temp,\n",
    "    initial_press,\n",
    "    return_inert_mol_frac=True\n",
    "):\n",
    "    if diluent_inert == diluent_active:\n",
    "        mol_frac_inert = mol_frac\n",
    "    else:\n",
    "        mol_frac_inert = sp.match_adiabatic_temp(\n",
    "            mech,\n",
    "            fuel,\n",
    "            oxidizer,\n",
    "            phi,\n",
    "            diluent_active,\n",
    "            mol_frac,\n",
    "            diluent_inert,\n",
    "            initial_temp,\n",
    "            initial_press\n",
    "        )\n",
    "\n",
    "    gas = ct.Solution(mech)\n",
    "    gas.set_equivalence_ratio(phi, fuel, oxidizer)\n",
    "    mol_frac_fuel = sp.diluted_species_dict(\n",
    "        gas.mole_fraction_dict(),\n",
    "        diluent_inert,\n",
    "        mol_frac_inert\n",
    "    )[fuel]\n",
    "    \n",
    "    if return_inert_mol_frac:\n",
    "        return calculate_partial_pressures(\n",
    "            x_diluent=mol_frac_inert,\n",
    "            x_fuel=mol_frac_fuel,\n",
    "            total_pressure=initial_press\n",
    "        ), mol_frac_inert\n",
    "        \n",
    "    else:\n",
    "        return calculate_partial_pressures(\n",
    "            x_diluent=mol_frac_inert,\n",
    "            x_fuel=mol_frac_fuel,\n",
    "            total_pressure=initial_press\n",
    "        )"
   ]
  },
  {
   "cell_type": "markdown",
   "metadata": {},
   "source": [
    "## Generate inert-diluted test matrix"
   ]
  },
  {
   "cell_type": "code",
   "execution_count": 11,
   "metadata": {
    "ExecuteTime": {
     "end_time": "2019-12-11T04:47:24.569436Z",
     "start_time": "2019-12-11T04:47:15.353085Z"
    }
   },
   "outputs": [],
   "source": [
    "# csv output\n",
    "output_path = os.path.join(\n",
    "    \"D:\\\\\",\n",
    "    \"2019-12-10 matrix.csv\"\n",
    ")\n",
    "\n",
    "# iterable quantities\n",
    "fuels = [\"C3H8\"]\n",
    "oxidizers = {\"air\": \"O2:1 N2:3.76\"}\n",
    "active_mol_fracs = [0.1]  # np.array([0, 5.5, 10.]) / 100\n",
    "inert_diluents = [\"N2\", \"CO2\"]\n",
    "init_pressures = [ct.one_atm]\n",
    "equivs = [1]  # np.arange(0.75, 1.3, 0.05)  # [0.4, 0.7, 1.0]\n",
    "\n",
    "# constant quantities\n",
    "diluent_active = \"CO2\"\n",
    "initial_temp = quant(60, \"degF\").to(\"K\").magnitude\n",
    "mech = \"gri30.cti\"\n",
    "\n",
    "output_columns = [\n",
    "    \"fuel\",\n",
    "    \"oxidizer\",\n",
    "    \"diluent\",\n",
    "    \"diluent_mol_frac\",\n",
    "    \"equivalence\",\n",
    "    \"init_pressure\",\n",
    "    \"p_dil\",\n",
    "    \"p_ox\",\n",
    "    \"p_f\"\n",
    "]\n",
    "\n",
    "combinations = list(itertools.product(\n",
    "    fuels,\n",
    "    oxidizers,\n",
    "    inert_diluents,\n",
    "    equivs,\n",
    "    active_mol_fracs,\n",
    "    init_pressures\n",
    "))\n",
    "\n",
    "data = np.empty((len(combinations), len(output_columns)), dtype=object)\n",
    "for i, (f, ox, dil, phi, mf_active, p_init) in enumerate(combinations): \n",
    "    p_fill, mf_inert = calculate_fill_pressures(\n",
    "        mech,\n",
    "        f,\n",
    "        oxidizers[ox],\n",
    "        phi,\n",
    "        diluent_active,\n",
    "        mf_active,\n",
    "        dil,\n",
    "        initial_temp,\n",
    "        p_init,\n",
    "        return_inert_mol_frac=True\n",
    "    )\n",
    "    data[i, :] = (\n",
    "        f, \n",
    "        ox,\n",
    "        dil,\n",
    "        mf_inert,\n",
    "        phi,\n",
    "        p_init / ct.one_atm,\n",
    "        p_fill[\"fuel\"] + p_fill[\"diluent\"],\n",
    "        p_fill[\"fuel\"] + p_fill[\"diluent\"] + p_fill[\"oxidizer\"],\n",
    "        p_fill[\"fuel\"]\n",
    "    )\n",
    "df_out = pd.DataFrame(data=data, columns=output_columns)\n",
    "df_out.to_csv(output_path, index=False)"
   ]
  },
  {
   "cell_type": "code",
   "execution_count": 10,
   "metadata": {
    "ExecuteTime": {
     "end_time": "2019-12-11T04:46:04.706555Z",
     "start_time": "2019-12-11T04:46:04.693615Z"
    }
   },
   "outputs": [
    {
     "data": {
      "text/html": [
       "<div>\n",
       "<style scoped>\n",
       "    .dataframe tbody tr th:only-of-type {\n",
       "        vertical-align: middle;\n",
       "    }\n",
       "\n",
       "    .dataframe tbody tr th {\n",
       "        vertical-align: top;\n",
       "    }\n",
       "\n",
       "    .dataframe thead th {\n",
       "        text-align: right;\n",
       "    }\n",
       "</style>\n",
       "<table border=\"1\" class=\"dataframe\">\n",
       "  <thead>\n",
       "    <tr style=\"text-align: right;\">\n",
       "      <th></th>\n",
       "      <th>fuel</th>\n",
       "      <th>oxidizer</th>\n",
       "      <th>diluent</th>\n",
       "      <th>diluent_mol_frac</th>\n",
       "      <th>equivalence</th>\n",
       "      <th>init_pressure</th>\n",
       "      <th>p_dil</th>\n",
       "      <th>p_ox</th>\n",
       "      <th>p_f</th>\n",
       "    </tr>\n",
       "  </thead>\n",
       "  <tbody>\n",
       "    <tr>\n",
       "      <th>0</th>\n",
       "      <td>C3H8</td>\n",
       "      <td>air</td>\n",
       "      <td>N2</td>\n",
       "      <td>0.162828</td>\n",
       "      <td>1</td>\n",
       "      <td>1</td>\n",
       "      <td>19919</td>\n",
       "      <td>101325</td>\n",
       "      <td>3420.42</td>\n",
       "    </tr>\n",
       "    <tr>\n",
       "      <th>1</th>\n",
       "      <td>C3H8</td>\n",
       "      <td>air</td>\n",
       "      <td>CO2</td>\n",
       "      <td>0.1</td>\n",
       "      <td>1</td>\n",
       "      <td>1</td>\n",
       "      <td>13809.6</td>\n",
       "      <td>101325</td>\n",
       "      <td>3677.12</td>\n",
       "    </tr>\n",
       "  </tbody>\n",
       "</table>\n",
       "</div>"
      ],
      "text/plain": [
       "   fuel oxidizer diluent diluent_mol_frac equivalence init_pressure    p_dil  \\\n",
       "0  C3H8      air      N2         0.162828           1             1    19919   \n",
       "1  C3H8      air     CO2              0.1           1             1  13809.6   \n",
       "\n",
       "     p_ox      p_f  \n",
       "0  101325  3420.42  \n",
       "1  101325  3677.12  "
      ]
     },
     "execution_count": 10,
     "metadata": {},
     "output_type": "execute_result"
    }
   ],
   "source": [
    "df_out"
   ]
  },
  {
   "cell_type": "code",
   "execution_count": null,
   "metadata": {},
   "outputs": [],
   "source": []
  }
 ],
 "metadata": {
  "kernelspec": {
   "display_name": "Python 3",
   "language": "python",
   "name": "python3"
  },
  "language_info": {
   "codemirror_mode": {
    "name": "ipython",
    "version": 3
   },
   "file_extension": ".py",
   "mimetype": "text/x-python",
   "name": "python",
   "nbconvert_exporter": "python",
   "pygments_lexer": "ipython3",
   "version": "3.6.7"
  }
 },
 "nbformat": 4,
 "nbformat_minor": 2
}
